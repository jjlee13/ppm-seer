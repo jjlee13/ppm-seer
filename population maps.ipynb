{
 "cells": [
  {
   "cell_type": "markdown",
   "metadata": {
    "collapsed": true
   },
   "source": [
    "use iPyLeaflet to handle the maps:\n",
    "https://github.com/ellisonbg/ipyleaflet\n",
    "\n",
    "TL;DR\n",
    "~~~\n",
    "pip install ipyleaflet\n",
    "jupyter nbextension enable --py --sys-prefix widgetsnbextension\n",
    "jupyter nbextension enable --py --sys-prefix ipyleaflet\n",
    "~~~"
   ]
  },
  {
   "cell_type": "code",
   "execution_count": null,
   "metadata": {
    "collapsed": true
   },
   "outputs": [],
   "source": [
    "from seerdata import *\n",
    "\n",
    "from ipyleaflet import (\n",
    "    Map,\n",
    "    Marker,\n",
    "    TileLayer, ImageOverlay,\n",
    "    Polyline, Polygon, Rectangle, Circle, CircleMarker,\n",
    "    GeoJSON,\n",
    "    DrawControl\n",
    ")\n",
    "\n",
    "center = [34.6252978589571, -77.34580993652344]\n",
    "pasadena_public_library = [34.14960, -118.1445]\n",
    "zoom = 9\n",
    "\n",
    "m = Map(center=pasadena_public_library, zoom=zoom)\n",
    "m"
   ]
  }
 ],
 "metadata": {
  "kernelspec": {
   "display_name": "Python 3",
   "language": "python",
   "name": "python3"
  },
  "language_info": {
   "codemirror_mode": {
    "name": "ipython",
    "version": 3
   },
   "file_extension": ".py",
   "mimetype": "text/x-python",
   "name": "python",
   "nbconvert_exporter": "python",
   "pygments_lexer": "ipython3",
   "version": "3.5.2"
  }
 },
 "nbformat": 4,
 "nbformat_minor": 0
}
