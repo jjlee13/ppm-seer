{
 "cells": [
  {
   "cell_type": "code",
   "execution_count": 4,
   "metadata": {
    "collapsed": false
   },
   "outputs": [
    {
     "name": "stdout",
     "output_type": "stream",
     "text": [
      "loading incidence files incidence/yr2005.lo_2nd_half/BREAST.TXT\n",
      "..loaded some table from seerdata..\n",
      "Index(['Patient ID number', 'Registry ID', 'Marital Status at DX',\n",
      "       'Race/Ethnicity', 'NHIA Derived Hispanic Origin', 'Sex',\n",
      "       'Age at diagnosis', 'Year of Birth', 'Sequence Number-Central',\n",
      "       'Month of diagnosis',\n",
      "       ...\n",
      "       'Derived HER2 Recode (2010+)', 'Breast Subtype (2010+)',\n",
      "       'Lymphomas: Ann Arbor Staging (1983+)', 'CS Mets at Dx-Bone',\n",
      "       'CS Mets at Dx-Brain', 'CS Mets at Dx-Liver', 'CS Mets at Dx-Lung',\n",
      "       'T value - based on AJCC 3rd (1988-2003)',\n",
      "       'N value - based on AJCC 3rd (1988-2003)',\n",
      "       'M value - based on AJCC 3rd (1988-2003)'],\n",
      "      dtype='object', length=134)\n",
      "populations/expanded.race.by.hispanic/yr2005.lo_2nd_half/19agegroups.txt\n",
      "loading population file populations/expanded.race.by.hispanic/yr2005.lo_2nd_half/19agegroups.txt\n",
      "Index(['Year', 'State', 'State_FIPS_code', 'County_FIPS_code', 'Registry',\n",
      "       'Race', 'Origin', 'Sex', 'Age', 'Population'],\n",
      "      dtype='object')\n"
     ]
    }
   ],
   "source": [
    "import numpy as np\n",
    "import collections\n",
    "import pandas as pd\n",
    "\n",
    "from glob import glob\n",
    "\n",
    "from seerdata import loadIncidenceFile, loadPopulationFile\n",
    "\n",
    "path = 'incidence/yr2005.lo_2nd_half/BREAST.TXT'\n",
    "incidences = glob('incidence/*/*.TXT')\n",
    "populationFiles = glob(\"populations/*/*/*.txt\")\n",
    "print(\"loading incidence files\", path)\n",
    "data=loadIncidenceFile(path)\n",
    "print(\"..loaded some table from seerdata..\")\n",
    "print(data.keys())\n",
    "\n",
    "\n",
    "path='populations/expanded.race.by.hispanic/yr2005.lo_2nd_half/19agegroups.txt'\n",
    "print(path)\n",
    "pop = loadPopulationFile(path)\n",
    "print(pop.keys())\n",
    "\n",
    "\n"
   ]
  },
  {
   "cell_type": "code",
   "execution_count": null,
   "metadata": {
    "collapsed": true
   },
   "outputs": [],
   "source": []
  }
 ],
 "metadata": {
  "kernelspec": {
   "display_name": "Python 3",
   "language": "python",
   "name": "python3"
  },
  "language_info": {
   "codemirror_mode": {
    "name": "ipython",
    "version": 3
   },
   "file_extension": ".py",
   "mimetype": "text/x-python",
   "name": "python",
   "nbconvert_exporter": "python",
   "pygments_lexer": "ipython3",
   "version": "3.5.2"
  }
 },
 "nbformat": 4,
 "nbformat_minor": 0
}
