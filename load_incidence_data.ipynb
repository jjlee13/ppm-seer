{
 "cells": [
  {
   "cell_type": "code",
   "execution_count": 13,
   "metadata": {
    "collapsed": false
   },
   "outputs": [
    {
     "name": "stdout",
     "output_type": "stream",
     "text": [
      "loading incidence files incidence\\yr1973_2013.seer9\\BREAST.SUB\n"
     ]
    },
    {
     "name": "stdout",
     "output_type": "stream",
     "text": [
      "loaded 10000 records from incidence\\yr1973_2013.seer9\\BREAST.SUB\n"
     ]
    }
   ],
   "source": [
    "import numpy as np\n",
    "import collections\n",
    "import pandas as pd\n",
    "\n",
    "from glob import glob\n",
    "\n",
    "from seerdata import loadIncidenceFile, loadPopulationFile, random_subset\n",
    "\n",
    "\n",
    "\n",
    "\n",
    "path = 'incidence/yr2005.lo_2nd_half/BREAST.TXT'\n",
    "incidences = glob('incidence/*/*.TXT')\n",
    "path = incidences[0].replace('TXT', 'SUB')\n",
    "\n",
    "random_subset(incidences[0], path)\n",
    "#path = incidences[0]\n",
    "#populationFiles = glob(\"populations/*/*/*.txt\")\n",
    "\n",
    "print(\"loading incidence files\", path)\n",
    "data=loadIncidenceFile(path)\n",
    "print(\"loaded\", len(data['Registry ID']), \"records from\", path)\n",
    "\n",
    "#print(\"..loaded some table from seerdata..\")\n",
    "#print(data.keys())\n",
    "\n",
    "#path='populations/expanded.race.by.hispanic/yr2005.lo_2nd_half/19agegroups.txt'\n",
    "#print(path)\n",
    "#pop = loadPopulationFile(path)\n",
    "#print(pop.keys())"
   ]
  },
  {
   "cell_type": "code",
   "execution_count": 14,
   "metadata": {
    "collapsed": false
   },
   "outputs": [
    {
     "name": "stdout",
     "output_type": "stream",
     "text": [
      "average age at diagnosis 61.6196\n"
     ]
    },
    {
     "data": {
      "image/png": "[encoded data removed]",
      "text/plain": [
       "<matplotlib.figure.Figure at 0x2d382a94a58>"
      ]
     },
     "metadata": {},
     "output_type": "display_data"
    }
   ],
   "source": [
    "import matplotlib.pyplot as plt\n",
    "%matplotlib inline\n",
    "\n",
    "plt.figure()\n",
    "month=data['Month of diagnosis']\n",
    "month.hist(alpha=0.5, bins=12)\n",
    "\"\"\"\n",
    "play with Kernels\n",
    "see \n",
    "\"\"\"\n",
    "print(\"average age at diagnosis\",data['Age at diagnosis'].mean())"
   ]
  },
  {
   "cell_type": "code",
   "execution_count": 15,
   "metadata": {},
   "outputs": [
    {
     "data": {
      "text/plain": [
       "[<matplotlib.lines.Line2D at 0x2d3810d2780>]"
      ]
     },
     "execution_count": 15,
     "metadata": {},
     "output_type": "execute_result"
    },
    {
     "data": {
      "image/png": "[encoded data removed]",
      "text/plain": [
       "<matplotlib.figure.Figure at 0x2d382cb4ef0>"
      ]
     },
     "metadata": {},
     "output_type": "display_data"
    }
   ],
   "source": [
    "series= [ [year, np.mean( data['Age at diagnosis'][data['Year of diagnosis'] == year])] for year in range(1973, 2013)]\n",
    "series=np.array(series)\n",
    "\n",
    "plt.figure()\n",
    "plt.plot(series[:,0], series[:,1])"
   ]
  },
  {
   "cell_type": "code",
   "execution_count": 12,
   "metadata": {
    "collapsed": true
   },
   "outputs": [
    {
     "name": "stdout",
     "output_type": "stream",
     "text": [
      "Primary Site is not a numeric field check differently\nEOD-Tumor Size 5668\nEOD-Extension 5668\nEOD-Extension Prost Path 10000\nEOD-Lymph Node Involv 5668\nRegional Nodes Positive 2281\nRegional Nodes Examined 2281\nEOD-Old 13 Digit is not a numeric field check differently\nEOD-Old 2 Digit is not a numeric field check differently\nEOD-Old 4 Digit 9030\nCoding System for EOD 3387\nTumor Marker 1 3387\nTumor Marker 2 3387\nTumor Marker 3 3387\nCS Tumor Size 6613\nCS Extension 6613\nCS Lymph Nodes 6613\nCS Mets at Dx 6613\nCS Site-Specific Factor 1 6613\nCS Site-Specific Factor 2 6613\nCS Site-Specific Factor 3 6613\nCS Site-Specific Factor 4 6613\nCS Site-Specific Factor 5 6613\nCS Site-Specific Factor 6 6613\nCS Site-Specific Factor 25 6613\nDerived AJCC T 6613\nDerived AJCC N 6613\nDerived AJCC M 6613\nDerived AJCC Stage Group 6613\nDerived SS1977 6613\nDerived SS2000 6613\nDerived AJCC-Flag 6613\nCS Version Input Original 6613\nCS Version Derived 6613\nCS Version Input Current 6613\nRX Summ-Surg Prim Site 4695\nRX Summ-Scope Reg LN Sur 6314\nRX Summ-Surg Oth Reg/Dis 6314\nRX Summ-Reg LN Examined 8381\nRX Summ-Surgery Type 5305\nRX Summ-Scope Reg 98-02 8381\nRX Summ-Surg Oth 98-02 8381\nRecode ICD-O-2 to 10 is not a numeric field check differently\nAJCC stage 3rd edition (1988-2003) 5668\nSEER modified AJCC Stage 3rd ed (1988-2003) 5668\nSEER Summary Stage 1977 (1995-2000) 8266\nSEER Summary Stage 2000 (2001-2003) 9032\nIHS Link 1415\nSummary stage 2000 (1998+) 4695\nCS Tumor Size/Ext Eval 6942\nCS Lymph Nodes Eval 6942\nCS Mets Eval 6942\nCS Site-Specific Factor 8 10000\nCS Site-Specific Factor 10 10000\nCS Site-Specific Factor 11 10000\nCS Site-Specific Factor 13 10000\nCS Site-Specific Factor 15 8559\nCS Site-Specific Factor 16 10000\nLymph vascular invasion 10000\nInsurance recode (2007+) 7545\nDerived AJCC-7 T 8559\nDerived AJCC-7 N 8559\nDerived AJCC-7 M 8559\nDerived AJCC-7 Stage Grp 8559\nBreast Adjusted AJCC 6th T (1988+) 2281\nBreast Adjusted AJCC 6th N (1988+) 2281\nBreast Adjusted AJCC 6th M (1988+) 2281\nBreast Adjusted AJCC 6th Stage (1988+) 2281\nCS Site-Specific Factor 7 8559\nCS Site-Specific Factor 9 10000\nCS Site-Specific Factor 12 10000\nCS Mets at Dx-Bone 8559\nCS Mets at Dx-Brain 8559\nCS Mets at Dx-Liver 8559\nCS Mets at Dx-Lung 8559\nT value - based on AJCC 3rd (1988-2003) 5668\nN value - based on AJCC 3rd (1988-2003) 5668\nM value - based on AJCC 3rd (1988-2003) 5668\n60 fully documented fields:\n ['Patient ID number', 'Registry ID', 'Marital Status at DX', 'Race/Ethnicity', 'NHIA Derived Hispanic Origin', 'Sex', 'Age at diagnosis', 'Year of Birth', 'Sequence Number-Central', 'Month of diagnosis', 'Year of diagnosis', 'Primary Site', 'Laterality', 'Histology (92-00) ICD-O-2', 'Behavior (92-00) ICD-O-2', 'Histologic Type ICD-O-3', 'Behavior Code ICD-O-3', 'Grade', 'Diagnostic Confirmation', 'Type of Reporting Source', 'EOD-Old 13 Digit', 'EOD-Old 2 Digit', 'Reason for no surgery', 'RX Summ-Radiation', 'RX Summ-Rad to CNS', 'RX Summ-Surg / Rad Seq', 'SEER Record Number', 'SEER Type of Follow-up', 'Age Recode <1 Year olds', 'Site Recode ICD-O-3/WHO 2008', 'Recode ICD-O-2 to 9', 'Recode ICD-O-2 to 10', 'ICCC site recode ICD-O-3/WHO 2008', 'ICCC site rec extended ICD-O-3/WHO 2008', 'Behavior Recode for Analysis', 'Histology Recode-Broad Groupings', 'Histology Recode-Brain Groupings', 'CS Schema v0204+', 'Race recode (White, Black, Other)', 'Race recode (W, B, AI, API)', 'Origin recode NHIA (Hispanic, Non-Hisp)', 'SEER historic stage A', 'First malignant primary indicator', 'State-county recode', 'Cause of Death to SEER site recode', 'COD to site rec KM', 'Vital Status recode', 'AYA site recode/WHO 2008', 'Lymphoma subtype recode/WHO 2008', 'SEER Cause-Specific Death Classification', 'SEER Other Cause of Death Classification', 'Primary by international rules', 'ER Status Recode Breast Cancer (1990+)', 'PR Status Recode Breast Cancer (1990+)', 'CS Schema -AJCC 6th ed (previously called v1)', 'Survival months', 'Survival months flag', 'Derived HER2 Recode (2010+)', 'Breast Subtype (2010+)', 'Lymphomas: Ann Arbor Staging (1983+)']\n"
     ]
    }
   ],
   "source": [
    "validFields= []\n",
    "for field in data.keys():\n",
    "    try:\n",
    "        Not_A_Number_Total=np.isnan(data[field]).sum()\n",
    "        if Not_A_Number_Total>10:\n",
    "            print(field, Not_A_Number_Total)\n",
    "        else:\n",
    "            validFields.append(field)\n",
    "    except TypeError:\n",
    "        print(field, \"is not a numeric field check differently\")\n",
    "        validFields.append(field)\n",
    "\n",
    "print(len(validFields), \"fully documented fields:\\n\", validFields)"
   ]
  },
  {
   "cell_type": "markdown",
   "metadata": {},
   "source": [
    "# 2016-12-06\n",
    "\n",
    "* Directions to explore:\n",
    "\n",
    "+ Data cleanup: \n",
    "Many fields are not complete for various reasons, do we try to complete them ? remove incomplete records ? split into sub datasets\n",
    " \n",
    "+ exploratory datasets : \n",
    "10k lines long snapshots of the files.\n",
    "done function random_subset\n",
    "\n",
    "+ relapse:\n",
    "patients listed several times in a file ? across files ??"
   ]
  },
  {
   "cell_type": "code",
   "execution_count": null,
   "metadata": {},
   "outputs": [],
   "source": [
    ""
   ]
  }
 ],
 "metadata": {
  "kernelspec": {
   "display_name": "Python 3",
   "language": "python",
   "name": "python3"
  },
  "language_info": {
   "codemirror_mode": {
    "name": "ipython",
    "version": 3.0
   },
   "file_extension": ".py",
   "mimetype": "text/x-python",
   "name": "python",
   "nbconvert_exporter": "python",
   "pygments_lexer": "ipython3",
   "version": "3.5.2"
  }
 },
 "nbformat": 4,
 "nbformat_minor": 0
}