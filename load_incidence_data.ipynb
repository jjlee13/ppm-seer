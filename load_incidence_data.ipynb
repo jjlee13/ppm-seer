{
 "cells": [
  {
   "cell_type": "code",
   "execution_count": 3,
   "metadata": {
    "collapsed": false
   },
   "outputs": [
    {
     "name": "stdout",
     "output_type": "stream",
     "text": [
      "loading incidence files incidence/yr1973_2013.seer9/BREAST.TXT\n"
     ]
    },
    {
     "name": "stdout",
     "output_type": "stream",
     "text": [
      "..loaded some table from seerdata..\nIndex(['Patient ID number', 'Registry ID', 'Marital Status at DX',\n       'Race/Ethnicity', 'NHIA Derived Hispanic Origin', 'Sex',\n       'Age at diagnosis', 'Year of Birth', 'Sequence Number-Central',\n       'Month of diagnosis',\n       ...\n       'Derived HER2 Recode (2010+)', 'Breast Subtype (2010+)',\n       'Lymphomas: Ann Arbor Staging (1983+)', 'CS Mets at Dx-Bone',\n       'CS Mets at Dx-Brain', 'CS Mets at Dx-Liver', 'CS Mets at Dx-Lung',\n       'T value - based on AJCC 3rd (1988-2003)',\n       'N value - based on AJCC 3rd (1988-2003)',\n       'M value - based on AJCC 3rd (1988-2003)'],\n      dtype='object', length=134)\npopulations/expanded.race.by.hispanic/yr2005.lo_2nd_half/19agegroups.txt\nloading population file populations/expanded.race.by.hispanic/yr2005.lo_2nd_half/19agegroups.txt\n"
     ]
    },
    {
     "name": "stdout",
     "output_type": "stream",
     "text": [
      "Index(['Year', 'State', 'State_FIPS_code', 'County_FIPS_code', 'Registry',\n       'Race', 'Origin', 'Sex', 'Age', 'Population'],\n      dtype='object')\n"
     ]
    }
   ],
   "source": [
    "import numpy as np\n",
    "import collections\n",
    "import pandas as pd\n",
    "\n",
    "from glob import glob\n",
    "\n",
    "from seerdata import loadIncidenceFile, loadPopulationFile\n",
    "\n",
    "path = 'incidence/yr2005.lo_2nd_half/BREAST.TXT'\n",
    "incidences = glob('incidence/*/*.TXT')\n",
    "populationFiles = glob(\"populations/*/*/*.txt\")\n",
    "print(\"loading incidence files\", path)\n",
    "data=loadIncidenceFile(path)\n",
    "print(\"..loaded some table from seerdata..\")\n",
    "print(data.keys())\n",
    "\n",
    "\n",
    "path='populations/expanded.race.by.hispanic/yr2005.lo_2nd_half/19agegroups.txt'\n",
    "print(path)\n",
    "pop = loadPopulationFile(path)\n",
    "print(pop.keys())"
   ]
  },
  {
   "cell_type": "code",
   "execution_count": 7,
   "metadata": {
    "collapsed": false
   },
   "outputs": [
    {
     "name": "stdout",
     "output_type": "stream",
     "text": [
      "average age at diagnosis 61.4285892564\n"
     ]
    },
    {
     "data": {
      "image/png": "[encoded data removed]",
      "text/plain": [
       "<matplotlib.figure.Figure at 0x19750c7b390>"
      ]
     },
     "metadata": {},
     "output_type": "display_data"
    }
   ],
   "source": [
    "import matplotlib.pyplot as plt\n",
    "%matplotlib inline\n",
    "\n",
    "plt.figure()\n",
    "month=data['Month of diagnosis']\n",
    "month.hist(alpha=0.5, bins=12)\n",
    "\"\"\"\n",
    "play with Kernels\n",
    "see \n",
    "\"\"\"\n",
    "print(\"average age at diagnosis\",data['Age at diagnosis'].mean())"
   ]
  },
  {
   "cell_type": "code",
   "execution_count": 17,
   "metadata": {},
   "outputs": [
    {
     "data": {
      "text/plain": [
       "[<matplotlib.lines.Line2D at 0x19750ff9b38>]"
      ]
     },
     "execution_count": 17,
     "metadata": {},
     "output_type": "execute_result"
    },
    {
     "data": {
      "image/png": "[encoded data removed]",
      "text/plain": [
       "<matplotlib.figure.Figure at 0x19750faf828>"
      ]
     },
     "metadata": {},
     "output_type": "display_data"
    }
   ],
   "source": [
    "series= [ [year, data['Age at diagnosis'][data['Year of diagnosis'] == year].mean()] for year in range(1973, 2013)]\n",
    "series=np.array(series)\n",
    "\n",
    "plt.figure()\n",
    "plt.plot(series[:,0], series[:,1])"
   ]
  },
  {
   "cell_type": "code",
   "execution_count": 23,
   "metadata": {
    "collapsed": true
   },
   "outputs": [
    {
     "name": "stdout",
     "output_type": "stream",
     "text": [
      "Year of Birth 40\nPrimary Site is not a numeric field check differently\n"
     ]
    },
    {
     "name": "stdout",
     "output_type": "stream",
     "text": [
      "EOD-Tumor Size 437074\nEOD-Extension 437074\nEOD-Extension Prost Path 769261\nEOD-Lymph Node Involv 437074\nRegional Nodes Positive 174651\nRegional Nodes Examined 174651\nEOD-Old 13 Digit is not a numeric field check differently\nEOD-Old 2 Digit is not a numeric field check differently\nEOD-Old 4 Digit 696677\nCoding System for EOD 262423\n"
     ]
    },
    {
     "name": "stdout",
     "output_type": "stream",
     "text": [
      "Tumor Marker 1 262423\nTumor Marker 2 262423\nTumor Marker 3 262423\nCS Tumor Size 506838\nCS Extension 506838\nCS Lymph Nodes 506838\nCS Mets at Dx 506838\nCS Site-Specific Factor 1 506838\n"
     ]
    },
    {
     "name": "stdout",
     "output_type": "stream",
     "text": [
      "CS Site-Specific Factor 2 506838\nCS Site-Specific Factor 3 506838\nCS Site-Specific Factor 4 506838\nCS Site-Specific Factor 5 506838\nCS Site-Specific Factor 6 506838\nCS Site-Specific Factor 25 506838\nDerived AJCC T 506838\n"
     ]
    },
    {
     "name": "stdout",
     "output_type": "stream",
     "text": [
      "Derived AJCC N 506838\nDerived AJCC M 506838\nDerived AJCC Stage Group 506838\nDerived SS1977 506838\nDerived SS2000 506838\nDerived AJCC-Flag 506838\nCS Version Input Original 506838\n"
     ]
    },
    {
     "name": "stdout",
     "output_type": "stream",
     "text": [
      "CS Version Derived 506838\nCS Version Input Current 506838\nRX Summ-Surg Prim Site 363635\nRX Summ-Scope Reg LN Sur 483489\nRX Summ-Surg Oth Reg/Dis 483489\nRX Summ-Reg LN Examined 649407\n"
     ]
    },
    {
     "name": "stdout",
     "output_type": "stream",
     "text": [
      "RX Summ-Surgery Type 405626\nRX Summ-Scope Reg 98-02 649407\nRX Summ-Surg Oth 98-02 649407\nRecode ICD-O-2 to 10 is not a numeric field check differently\n"
     ]
    },
    {
     "name": "stdout",
     "output_type": "stream",
     "text": [
      "AJCC stage 3rd edition (1988-2003) 437074\nSEER modified AJCC Stage 3rd ed (1988-2003) 437074\nSEER Summary Stage 1977 (1995-2000) 635301\nSEER Summary Stage 2000 (2001-2003) 697066\n"
     ]
    },
    {
     "name": "stdout",
     "output_type": "stream",
     "text": [
      "IHS Link 106895\nSummary stage 2000 (1998+) 363635\nCS Tumor Size/Ext Eval 531970\nCS Lymph Nodes Eval 531968\n"
     ]
    },
    {
     "name": "stdout",
     "output_type": "stream",
     "text": [
      "CS Mets Eval 531985\nCS Site-Specific Factor 8 769261\nCS Site-Specific Factor 10 769261\nCS Site-Specific Factor 11 769261\n"
     ]
    },
    {
     "name": "stdout",
     "output_type": "stream",
     "text": [
      "CS Site-Specific Factor 13 769261\nCS Site-Specific Factor 15 658461\nCS Site-Specific Factor 16 769261\nLymph vascular invasion 769261\nInsurance recode (2007+) 579416\nDerived AJCC-7 T 658461\n"
     ]
    },
    {
     "name": "stdout",
     "output_type": "stream",
     "text": [
      "Derived AJCC-7 N 658461\nDerived AJCC-7 M 658461\nDerived AJCC-7 Stage Grp 658461\nBreast Adjusted AJCC 6th T (1988+) 174651\nBreast Adjusted AJCC 6th N (1988+) 174651\nBreast Adjusted AJCC 6th M (1988+) 174651\nBreast Adjusted AJCC 6th Stage (1988+) 174651\nCS Site-Specific Factor 7 658461\n"
     ]
    },
    {
     "name": "stdout",
     "output_type": "stream",
     "text": [
      "CS Site-Specific Factor 9 769261\nCS Site-Specific Factor 12 769261\nCS Mets at Dx-Bone 658461\nCS Mets at Dx-Brain 658461\nCS Mets at Dx-Liver 658461\n"
     ]
    },
    {
     "name": "stdout",
     "output_type": "stream",
     "text": [
      "CS Mets at Dx-Lung 658461\nT value - based on AJCC 3rd (1988-2003) 437074\nN value - based on AJCC 3rd (1988-2003) 437074\nM value - based on AJCC 3rd (1988-2003) 437074\n59 fully documented fields:\n ['Patient ID number', 'Registry ID', 'Marital Status at DX', 'Race/Ethnicity', 'NHIA Derived Hispanic Origin', 'Sex', 'Age at diagnosis', 'Sequence Number-Central', 'Month of diagnosis', 'Year of diagnosis', 'Primary Site', 'Laterality', 'Histology (92-00) ICD-O-2', 'Behavior (92-00) ICD-O-2', 'Histologic Type ICD-O-3', 'Behavior Code ICD-O-3', 'Grade', 'Diagnostic Confirmation', 'Type of Reporting Source', 'EOD-Old 13 Digit', 'EOD-Old 2 Digit', 'Reason for no surgery', 'RX Summ-Radiation', 'RX Summ-Rad to CNS', 'RX Summ-Surg / Rad Seq', 'SEER Record Number', 'SEER Type of Follow-up', 'Age Recode <1 Year olds', 'Site Recode ICD-O-3/WHO 2008', 'Recode ICD-O-2 to 9', 'Recode ICD-O-2 to 10', 'ICCC site recode ICD-O-3/WHO 2008', 'ICCC site rec extended ICD-O-3/WHO 2008', 'Behavior Recode for Analysis', 'Histology Recode-Broad Groupings', 'Histology Recode-Brain Groupings', 'CS Schema v0204+', 'Race recode (White, Black, Other)', 'Race recode (W, B, AI, API)', 'Origin recode NHIA (Hispanic, Non-Hisp)', 'SEER historic stage A', 'First malignant primary indicator', 'State-county recode', 'Cause of Death to SEER site recode', 'COD to site rec KM', 'Vital Status recode', 'AYA site recode/WHO 2008', 'Lymphoma subtype recode/WHO 2008', 'SEER Cause-Specific Death Classification', 'SEER Other Cause of Death Classification', 'Primary by international rules', 'ER Status Recode Breast Cancer (1990+)', 'PR Status Recode Breast Cancer (1990+)', 'CS Schema -AJCC 6th ed (previously called v1)', 'Survival months', 'Survival months flag', 'Derived HER2 Recode (2010+)', 'Breast Subtype (2010+)', 'Lymphomas: Ann Arbor Staging (1983+)']\n"
     ]
    }
   ],
   "source": [
    "validFields= []\n",
    "for field in data.keys():\n",
    "    try:\n",
    "        Not_A_Number_Total=np.isnan(data[field]).sum()\n",
    "        if Not_A_Number_Total>0:\n",
    "            print(field, Not_A_Number_Total)\n",
    "        else:\n",
    "            validFields.append(field)\n",
    "    except TypeError:\n",
    "        print(field, \"is not a numeric field check differently\")\n",
    "        validFields.append(field)\n",
    "\n",
    "print(len(validFields), \"fully documented fields:\\n\", validFields)"
   ]
  },
  {
   "cell_type": "code",
   "execution_count": null,
   "metadata": {},
   "outputs": [],
   "source": [
    "\"\"\"\n",
    "2016-12-06\n",
    "\n",
    "Directions to explore:\n",
    "\n",
    "Data cleanup: Many fields are not complete for various reasons, do we try to complete them ? remove incomplete records ? split into sub datasets\n",
    " \n",
    "exploratory datasets : 10k lines long snapshots of the files \n",
    "\n",
    "relapse ? patients listed several times in a file ? across files ??\n",
    "\n",
    "\n",
    "\n",
    "\n",
    "\n",
    "\"\"\""
   ]
  }
 ],
 "metadata": {
  "kernelspec": {
   "display_name": "Python 3",
   "language": "python",
   "name": "python3"
  },
  "language_info": {
   "codemirror_mode": {
    "name": "ipython",
    "version": 3.0
   },
   "file_extension": ".py",
   "mimetype": "text/x-python",
   "name": "python",
   "nbconvert_exporter": "python",
   "pygments_lexer": "ipython3",
   "version": "3.5.2"
  }
 },
 "nbformat": 4,
 "nbformat_minor": 0
}